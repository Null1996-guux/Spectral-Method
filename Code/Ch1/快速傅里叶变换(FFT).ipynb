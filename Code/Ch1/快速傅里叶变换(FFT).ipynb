{
 "cells": [
  {
   "cell_type": "markdown",
   "metadata": {},
   "source": [
    "# 介绍"
   ]
  },
  {
   "cell_type": "markdown",
   "metadata": {},
   "source": [
    "## 周期函数的复指数形式展开"
   ]
  },
  {
   "cell_type": "markdown",
   "metadata": {},
   "source": [
    "记:\n",
    "\n",
    "\\begin{equation}\n",
    "    E_k(x) = e^{ikx}, \\quad 0, \\pm1, \\cdots\n",
    "\\end{equation}\n",
    "\n",
    "利用 $E_k(x)$ 可以构造复数集上 $L_2[0, 2\\pi]$ 空间的标准正交系, 其中 $L_2[0, 2\\pi]$上的内积如下定义:\n",
    "\n",
    "\\begin{equation}\n",
    "    (f, g) = \\dfrac{1}{2 \\pi}\\int\\limits_0^{2\\pi} f(x)\\overline{g(x)}dx\n",
    "\\end{equation}\n",
    "\n",
    "即意味着:\n",
    "\n",
    "\\begin{equation}\n",
    "    (E_k, E_m) = 0 \\quad k \\neq m \\quad ; \\quad (E_k, E_k) = 1\n",
    "\\end{equation}\n",
    "\n",
    "对于离散形式, 考虑:\n",
    "\n",
    "\\begin{equation}\n",
    "    (f, g)_N = \\dfrac{1}{N}\\sum\\limits_{j = 0}^{N - 1}f(x_j)\\overline{g(x_j)}\n",
    "\\end{equation}\n",
    "\n",
    "其中:\n",
    "\n",
    "\\begin{equation}\n",
    "    x_j = \\frac{2 \\pi j}{N}, \\quad 0 \\leq j \\leq N-1\n",
    "\\end{equation}\n",
    "\n",
    "\n",
    "注意, 上述 $(\\cdot, \\cdot)_N$ 不是内积, 不满足正定性: $(f, f)_N = 0 \\Longleftrightarrow f = 0$\n",
    "\n",
    "$ f $只需要在所有节点上为0 即有 $(f, f)_N = 0$"
   ]
  },
  {
   "cell_type": "markdown",
   "metadata": {},
   "source": [
    "$\\color{green}{引理}$\n",
    "\n",
    "$\\forall N \\geq 1:$\n",
    "\n",
    "\\begin{equation}\n",
    "     (E_k, E_m)_N  =\n",
    "    \\begin{cases}\n",
    "           1 & N| k-m\\\\\n",
    "           0 & otherwise\n",
    "    \\end{cases}\n",
    "\\end{equation}"
   ]
  },
  {
   "cell_type": "markdown",
   "metadata": {},
   "source": [
    "假设 $f(x)$ 是以 $2 \\pi$ 为周期的周期函数, 称 $f(x)$ 为次数不超过 $N-1$ 的指数多项式如果 $f(x)$ 有如下形式:\n",
    "\n",
    "\\begin{equation}\n",
    "    f(x)  = \\sum\\limits_{ k = 0}^{N - 1} c_k e^{ik x} = \\sum\\limits_{k = 0}^{N - 1}c_kE_k(x)\n",
    "\\end{equation}\n",
    "\n",
    "为了确定$ c_k $, 两边分别利用 $E_m$ 作离散内积得:\n",
    "\n",
    "\\begin{equation}\n",
    "    (f(x), E_m)_N = \\sum\\limits_{k = 0}^{N - 1}c_k(E_k, E_m)_N, \\quad 0 \\leq m \\leq N -1 \n",
    "\\end{equation}\n",
    "\n",
    "将两边展开并且利用上面引理立得:\n",
    "\n",
    "\\begin{equation}\n",
    "    c_m = \\dfrac{1}{N} \\sum_{j = 0}^{N - 1}f(x_j)e^{-imx_j}, \\quad 0 \\leq m \\leq N -1\n",
    "\\end{equation}"
   ]
  },
  {
   "cell_type": "markdown",
   "metadata": {},
   "source": [
    "其中 $ x_j  = \\dfrac{2 \\pi j }{N}$, 在实际情况下, 通常需要通过 $\\left\\lbrace f(x_j) \\right\\rbrace$来确定 $ c_k $ ; 反之, 或者通过  $ c_k $ 来确定 $f(x_j)$, 显然, 直接对上式进行操作, 复杂度将会是 $ O(N^2) .$$Cooley, Tukey$ 提出了计算 $ c_k $的高效算法将计算 $ p(x_j) $的复杂度降低为 $ O(Nlog_2N) $ 这个方法即 $FFT$"
   ]
  },
  {
   "cell_type": "markdown",
   "metadata": {},
   "source": [
    "## 矩阵形式"
   ]
  },
  {
   "cell_type": "markdown",
   "metadata": {},
   "source": [
    "经过观察,很容易发现,实际上记 $c = (c_0, c_1, \\cdots, c_{N-1})^T $ 并且注意 $e^{ix_j} = \\omega_N^j$ 其中: $ \\omega_N $表示$ N 次单位根$ 则可以将上面的关系写为矩阵形式如下:"
   ]
  },
  {
   "cell_type": "markdown",
   "metadata": {},
   "source": [
    "\\begin{equation}\n",
    "    \\begin{pmatrix}\n",
    "        c_0 \\\\ c_1 \\\\ c_2 \\\\ \\vdots \\\\ c_{N-1} \n",
    "    \\end{pmatrix}\n",
    "    = \\dfrac{1}{N}\\begin{pmatrix}\n",
    "        1 & 1 & 1 & \\cdots & 1 \\\\\n",
    "        1 & \\overline{\\omega}_N & \\overline{\\omega}_N^2 & \\cdots & \\overline{\\omega}_N^{N - 1} \\\\\n",
    "        1 & \\overline{\\omega}_N^2 & \\overline{\\omega}_N^4 & \\cdots & \\overline{\\omega}_N^{2 \\cdot (N - 1)} \\\\\n",
    "          &                       &        \\cdots         &      \\cdots   & \\\\\n",
    "        1 & \\overline{\\omega}_N^{N-1} & \\overline{\\omega}_N^{2(N - 1)} & \\cdots & \\overline{\\omega}_N^{(N - 1) \\cdot (N - 1)} \n",
    "    \\end{pmatrix}\n",
    "    \\begin{pmatrix}\n",
    "        f_0 \\\\ f_1 \\\\ f_2 \\\\ \\vdots \\\\ f_{N -1}\n",
    "    \\end{pmatrix}\n",
    "\\end{equation}"
   ]
  },
  {
   "cell_type": "markdown",
   "metadata": {},
   "source": [
    "其中, $ \\omega_N = e^{\\frac{2 \\pi i}{N}}$,称该由 $f_0, f_1, \\cdots , f_{N-1}$求解出$c_0, c_1, \\cdots, c_{N-1}$的过程为离散傅里叶变换"
   ]
  },
  {
   "cell_type": "markdown",
   "metadata": {},
   "source": [
    "\\begin{equation}\n",
    "    \\begin{pmatrix}\n",
    "        f_0 \\\\ f_1 \\\\ f_2 \\\\ \\vdots \\\\ f_{N-1} \n",
    "    \\end{pmatrix}\n",
    "    = \\begin{pmatrix}\n",
    "        1 & 1 & 1 & \\cdots & 1 \\\\\n",
    "        1 & {\\omega}_N & {\\omega}_N^2 & \\cdots & {\\omega}_N^{N - 1} \\\\\n",
    "        1 & {\\omega}_N^2 & {\\omega}_N^4 & \\cdots & {\\omega}_N^{2 \\cdot (N - 1)} \\\\\n",
    "          &                       &        \\cdots         &      \\cdots   & \\\\\n",
    "        1 & {\\omega}_N^{N-1} & {\\omega}_N^{2(N - 1)} & \\cdots & {\\omega}_N^{(N - 1) \\cdot (N - 1)} \n",
    "    \\end{pmatrix}\n",
    "    \\begin{pmatrix}\n",
    "        c_0 \\\\ c_1 \\\\ c_2 \\\\ \\vdots \\\\ c_{N -1}\n",
    "    \\end{pmatrix}\n",
    "\\end{equation}"
   ]
  },
  {
   "cell_type": "markdown",
   "metadata": {},
   "source": [
    "$ \\omega_N = e^{\\frac{2 \\pi i}{N}}$,称该由$c_0, c_1, \\cdots, c_{N - 1}$ 求出 $f_0, f_1, \\cdots, f_{N-1}$的过程为离散傅里叶逆变换"
   ]
  },
  {
   "cell_type": "markdown",
   "metadata": {},
   "source": [
    "# $FFT$的基本引理"
   ]
  },
  {
   "cell_type": "markdown",
   "metadata": {},
   "source": [
    "$\\color{green}{引理1}$"
   ]
  },
  {
   "cell_type": "markdown",
   "metadata": {},
   "source": [
    "假设 $p(x), q(x)$ 为 $N-1$ 阶的指数多项式, 并且使得: 对 $ y_j = \\frac{\\pi j}{N} $成立:\n",
    "\n",
    "\\begin{equation}\n",
    "    p(y_{2j}) = f(y_{2j}), \\quad q(y_{2j}) = f(y_{2j + 1}), \\quad 0 \\leq j \\leq N-1\n",
    "\\end{equation}"
   ]
  },
  {
   "cell_type": "markdown",
   "metadata": {},
   "source": [
    "则$ f $满足上述条件的阶数小于 $ 2N - 1 $的指数插值多项式存在,并且可以由下式给出:\n",
    "\n",
    "\\begin{equation}\n",
    "    P(x) = \\dfrac{1}{2}(1 + e^{iNx})p(x) + \\dfrac{1}{2}(1 - e^{iNx})q(x - \\frac{\\pi}{N})\n",
    "\\end{equation}"
   ]
  },
  {
   "cell_type": "markdown",
   "metadata": {},
   "source": [
    "$\\color{green}{引理2}$"
   ]
  },
  {
   "cell_type": "markdown",
   "metadata": {},
   "source": [
    "假设 $\\color{green}{引理1}$ 中的多项式 $p(x), q(x), P(x)$ 分别由下式给出:\n",
    "    \n",
    "\\begin{equation}\n",
    "    p(x) = \\sum\\limits_{j = 0}^{N - 1}\\alpha_j E_j(x) \\quad q(x) = \\sum\\limits_{j = 0}^{N - 1}\\beta_j E_j(x) \\quad\n",
    "    P(x) = \\sum\\limits_{ j = 0 }^{2N - 1} \\gamma_j E_j(x)\n",
    "\\end{equation}\n",
    "\n",
    "则 $ \\forall 0 \\leq j \\leq N-1:$\n",
    "\n",
    "\\begin{equation}\n",
    "    \\gamma_j = \\frac{1}{2}\\alpha_j + \\frac{1}{2}e^{ \\frac{-ij \\pi}{N}}\\beta_j \\quad \\gamma_{j + N} = \\frac{1}{2}\\alpha_j - \\frac{1}{2}e^{\\frac{-ij \\pi}{N}}\\beta_j\n",
    "\\end{equation}"
   ]
  },
  {
   "cell_type": "markdown",
   "metadata": {},
   "source": [
    "# $FFT$ 算法以及时间复杂度"
   ]
  },
  {
   "cell_type": "markdown",
   "metadata": {},
   "source": [
    "## 直接推导\n",
    "\n",
    "总结前面, 已经有了如下三个式子:\n",
    "\n",
    "- \n",
    "\\begin{align}\n",
    "    f(x) = \\sum\\limits_{k = 0}^{N}c_kE_k(x) \\\\\n",
    "    c_k = \\dfrac{1}{N}\\sum\\limits_{j = 0}^{N - 1}f(x_j)e^{-ikx_j}\n",
    "\\end{align}\n",
    "\n",
    "- 假设 p(x), q(x) 为次数等于$N - 1$ 的指数多项式, $ y_j  = \\frac{\\pi j}{N} $, $ f $ 满足: $ \\forall 0 \\leq j \\leq N - 1$\n",
    "\n",
    "\\begin{equation}\n",
    "    p(y_{2j}) = f(y_{2j}), \\quad q(y_{2j}) = f{（y_{2j + 1}） }\n",
    "\\end{equation}\n",
    "\n",
    "则存在 f(x) 在节点 $y_j$处 次数不超过 $ 2N - 1$ 的插值多项式$ P(x) $满足:\n",
    "\n",
    "\\begin{equation}\n",
    "    P(x) = \\dfrac{1}{2}(1 + e^{iNx})p(x) + \\dfrac{1}{2}(1 - e^{iNx})q(x - \\dfrac{\\pi}{N})\n",
    "\\end{equation}\n",
    "\n",
    "- 对上述的 $p(x), q(x), P(x)$ 并且满足:\n",
    "\n",
    "\\begin{equation}\n",
    "    p(x) = \\sum\\limits_{j = 0}^{N - 1}\\alpha_jE_j(x), \\quad  q(x) = \\sum\\limits_{j = 0}^{N - 1}\\beta_jE_j(x), \\quad\n",
    "     P(x) = \\sum\\limits_{j = 0}^{2N - 1}\\gamma_jE_j(x)\n",
    "\\end{equation}\n",
    "\n",
    "则系数 $ \\alpha, \\beta, \\gamma $有以下关系:\n",
    "\n",
    "对 $ 0 \\leq j \\leq N - 1$\n",
    "\\begin{align}\n",
    "    \\gamma_j = \\dfrac{1}{2}\\alpha_j + \\dfrac{1}{2}e^{\\frac{-ij\\pi}{N}}\\beta_j \\\\ \n",
    "    \\gamma_{j + N} =  \\dfrac{1}{2} \\alpha_j - \\dfrac{1}{2}e^{\\frac{-ij \\pi}{N}}\\beta_j\n",
    "\\end{align}"
   ]
  },
  {
   "cell_type": "markdown",
   "metadata": {},
   "source": [
    "现在, 考虑对 $f(x) = \\sum\\limits_{k = 0}^{2N - 1}c_kE_k(x) $ \n",
    "\n",
    "\\begin{equation}\n",
    "    c_k = \\dfrac{1}{2N}\\sum\\limits_{j = 0}^{2N - 1}f(x_j)e^{-ikx_j} \\quad x_j = \\dfrac{\\pi j}{N}\n",
    "\\end{equation}"
   ]
  },
  {
   "cell_type": "markdown",
   "metadata": {},
   "source": [
    "利用上式, 有:\n",
    "\n",
    "\\begin{equation}\n",
    "    \\begin{cases}\n",
    "        \\gamma_k = \\dfrac{1}{2N} \\sum\\limits_{j = 0}^{2N - 1}f(x_j)e^{-\\frac{ikj\\pi}{N}} \\\\\n",
    "        \\alpha_k = \\gamma_k + \\gamma_{k + N} = \\dfrac{1}{N}\\sum\\limits_{j = 0}^{N - 1} f(x_{2j})e^{-\\frac{2ikj\\pi}{N}} \\quad 0 \\leq k \\leq N-1  \\\\\n",
    "        \\beta_k = (\\gamma_k - \\gamma_{k + N})e^{i \\frac{k \\pi}{N}} = \\dfrac{1}{N}\\sum\\limits_{j = 0}^{N - 1} f(x_{2j+1})e^{-\\frac{2ikj\\pi}{N}} \\quad 0 \\leq k \\leq N-1\n",
    "    \\end{cases}\n",
    "\\end{equation}\n",
    "\n",
    "\\begin{equation}\n",
    "    \\begin{cases}\n",
    "        \\alpha_k = \\dfrac{1}{N}\\sum\\limits_{j = 0}^{N - 1} f(x_{2j})e^{-\\frac{2ikj\\pi}{N}} \\\\\n",
    "        \\beta_k =  \\dfrac{1}{N}\\sum\\limits_{j = 0}^{N - 1} f(x_{2j+1})e^{-\\frac{2ikj\\pi}{N}} \\\\\n",
    "        \\gamma_k = \\dfrac{1}{2N} \\sum\\limits_{j = 0}^{2N - 1}f(x_j)e^{-\\frac{ikj\\pi}{N}}\n",
    "    \\end{cases}\n",
    "\\end{equation}"
   ]
  },
  {
   "cell_type": "markdown",
   "metadata": {},
   "source": [
    "## FFT 的矩阵推导"
   ]
  },
  {
   "cell_type": "markdown",
   "metadata": {},
   "source": [
    "由前面可以看出, 离散傅里叶变换实际上即通过如下矩阵乘法实现 $f_0, f_1, \\cdots, f_{N-1}$ 到 $c_0, c_1, \\cdots, c_{N-1}$的转换"
   ]
  },
  {
   "cell_type": "markdown",
   "metadata": {},
   "source": [
    "\\begin{equation}\n",
    "    \\begin{pmatrix}\n",
    "        c_0 \\\\ c_1 \\\\ c_2 \\\\ \\vdots \\\\ c_{N-1} \n",
    "    \\end{pmatrix}\n",
    "    = \\dfrac{1}{N}\\begin{pmatrix}\n",
    "        1 & 1 & 1 & \\cdots & 1 \\\\\n",
    "        1 & \\overline{\\omega}_N & \\overline{\\omega}_N^2 & \\cdots & \\overline{\\omega}_N^{N - 1} \\\\\n",
    "        1 & \\overline{\\omega}_N^2 & \\overline{\\omega}_N^4 & \\cdots & \\overline{\\omega}_N^{2 \\cdot (N - 1)} \\\\\n",
    "          &                       &        \\cdots         &      \\cdots   & \\\\\n",
    "        1 & \\overline{\\omega}_N^{N-1} & \\overline{\\omega}_N^{2(N - 1)} & \\cdots & \\overline{\\omega}_N^{(N - 1) \\cdot (N - 1)} \n",
    "    \\end{pmatrix}\n",
    "    \\begin{pmatrix}\n",
    "        f_0 \\\\ f_1 \\\\ f_2 \\\\ \\vdots \\\\ f_{N -1}\n",
    "    \\end{pmatrix}\n",
    "\\end{equation}"
   ]
  },
  {
   "cell_type": "markdown",
   "metadata": {},
   "source": [
    "下面将通过四维的例子来在推导快速计算上面矩阵乘法的思路\n",
    "\n",
    "由:\n",
    "\n",
    "\\begin{equation}\n",
    "    \\begin{pmatrix}\n",
    "        c_0 \\\\ c_1 \\\\ c_2 \\\\ c_3\n",
    "    \\end{pmatrix}\n",
    "    = \\dfrac{1}{4}\n",
    "    \\begin{pmatrix}\n",
    "        1 & 1 & 1 & 1 \\\\\n",
    "        1 & \\overline{\\omega}_4 & \\overline{\\omega}^2_4 & \\overline{\\omega}^3_4 \\\\\n",
    "        1 & \\overline{\\omega}^2_4 & \\overline{\\omega}^4_4 & \\overline{\\omega}^6_4 \\\\\n",
    "        1 & \\overline{\\omega}^3_4 & \\overline{\\omega}^6_4 & \\overline{\\omega}^9_4\n",
    "    \\end{pmatrix}\n",
    "    \\begin{pmatrix}\n",
    "        f_0 \\\\ f_1 \\\\ f_2 \\\\ f_3\n",
    "    \\end{pmatrix}\n",
    "\\end{equation}"
   ]
  },
  {
   "cell_type": "markdown",
   "metadata": {},
   "source": [
    "下面交换右端矩阵的奇数列和偶数列, 将上述右端改写为如下等价形式:\n",
    "\n",
    "\\begin{equation}\n",
    "    \\begin{pmatrix}\n",
    "        c_0 \\\\ c_1 \\\\ c_2 \\\\ c_3\n",
    "    \\end{pmatrix}\n",
    "    = \\dfrac{1}{4}\n",
    "    \\begin{pmatrix}\n",
    "        1 & 1 & 1 & 1 \\\\\n",
    "        1 & \\overline{\\omega} ^ 2_4 & \\overline{\\omega}_4 & \\overline{\\omega} ^ 3_4 \\\\\n",
    "        1 & \\overline{\\omega} ^ 4_4 & \\overline{\\omega} ^ 2_4 & \\overline{\\omega} ^ 6_4 \\\\\n",
    "        1 & \\overline{\\omega} ^ 6_4 & \\overline{\\omega} ^ 3_4 & \\overline{\\omega} ^ 9_4\n",
    "    \\end{pmatrix}\n",
    "    \\begin{pmatrix}\n",
    "        f_0 \\\\ f_2 \\\\ f_1 \\\\ f_3\n",
    "    \\end{pmatrix}\n",
    "\\end{equation}\n",
    "\n",
    "记 \n",
    "\n",
    "\\begin{align}\n",
    "F_4 = \\begin{pmatrix}\n",
    "        1 & 1 & 1 & 1 \\\\\n",
    "        1 & \\overline{\\omega}_4 & \\overline{\\omega} ^ 2_4 & \\overline{\\omega} ^ 3_4 \\\\\n",
    "        1 & \\overline{\\omega} ^ 2_4 & \\overline{\\omega} ^ 4_4 & \\overline{\\omega} ^ 6_4 \\\\\n",
    "        1 & \\overline{\\omega} ^ 3_4 & \\overline{\\omega} ^ 6_4 & \\overline{\\omega} ^ 9_4\n",
    "    \\end{pmatrix}, \\quad \n",
    "    F_2  = \\begin{pmatrix}\n",
    "        1 & 1\\\\\n",
    "        1 & \\overline{\\omega}_4^2 \n",
    "    \\end{pmatrix} = \\begin{pmatrix}\n",
    "        1 & 1\\\\\n",
    "        1 & \\overline{\\omega}_2\n",
    "    \\end{pmatrix}\\quad\n",
    "    D_2 = \n",
    "    \\begin{pmatrix}\n",
    "       1 & 0 \\\\\n",
    "       0 & \\overline{\\omega}_4\n",
    "    \\end{pmatrix}\n",
    "\\end{align}"
   ]
  },
  {
   "cell_type": "markdown",
   "metadata": {},
   "source": [
    "有:\n",
    "\n",
    "\\begin{align}\n",
    "    F_4f = \\begin{pmatrix}\n",
    "        F_2 & D_2F_2 \\\\\n",
    "        F_2 & -D_2F_2\n",
    "    \\end{pmatrix}\n",
    "    \\begin{pmatrix}\n",
    "        f_{even} \\\\ f_{odd}\n",
    "    \\end{pmatrix}\n",
    "\\end{align}"
   ]
  },
  {
   "cell_type": "markdown",
   "metadata": {},
   "source": [
    "从而对于一般的情况 (假设$ N $为偶数), 容易知道, 仍有:\n",
    "\n",
    "\\begin{align}\n",
    "    F_Nf =\n",
    "    \\begin{pmatrix}\n",
    "        F_{\\frac{N}{2}} & D_{\\frac{N}{2}}F_{\\frac{N}{2}} \\\\\n",
    "        F_{\\frac{N}{2}} & -D_{\\frac{N}{2}}F_{\\frac{N}{2}}\n",
    "    \\end{pmatrix}\n",
    "    \\begin{pmatrix}\n",
    "        f_{even} \\\\ f_{odd}\n",
    "    \\end{pmatrix}  \n",
    "    = \\begin{pmatrix}\n",
    "        I & D_{\\frac{N}{2}} \\\\\n",
    "        I & -D_{\\frac{N}{2}}\n",
    "    \\end{pmatrix}\n",
    "    \\begin{pmatrix}\n",
    "        F_{\\frac{N}{2}}f_{even} \\\\ F_{\\frac{N}{2}}f_{odd}\n",
    "    \\end{pmatrix}\n",
    "\\end{align}"
   ]
  },
  {
   "cell_type": "markdown",
   "metadata": {},
   "source": [
    "注意, $I$ 和 $D_N$ 均为对角矩阵, 和向量作矩阵乘法每次只需要 $N$ 次的计算量"
   ]
  },
  {
   "cell_type": "markdown",
   "metadata": {},
   "source": [
    "## 算法时间复杂度"
   ]
  },
  {
   "cell_type": "markdown",
   "metadata": {},
   "source": [
    "在计算时, 可以通过补 $0$ 的方式将 $ N $ 凑为 2 的幂次方, 从而使得右边能够递归计算下去\n",
    "\n",
    "上述算法的递归表达式如下:\n",
    "\n",
    "\\begin{equation}\n",
    "    T(N) = 2T(\\frac{N}{2}) + 2N\n",
    "\\end{equation}\n",
    "\n",
    "从而 $T(N) = Nlog_2N$"
   ]
  },
  {
   "cell_type": "markdown",
   "metadata": {},
   "source": [
    "可以写为递归树理解如下:"
   ]
  },
  {
   "cell_type": "markdown",
   "metadata": {},
   "source": [
    "![title](fig/rcs_tree.png)"
   ]
  },
  {
   "cell_type": "markdown",
   "metadata": {},
   "source": [
    "上述表达式可利用递归树画出, 如图: 树的深度为 $ log_2 N $ 每层需要进行行 $ O(N) $ 的操作, 由此容易知道总的时间复杂度为 $ O(Nlog_2N) $"
   ]
  },
  {
   "cell_type": "markdown",
   "metadata": {},
   "source": [
    "# $FFT$ 的代码实现"
   ]
  },
  {
   "cell_type": "markdown",
   "metadata": {},
   "source": [
    "## Numpy 模块下的复数运算"
   ]
  },
  {
   "cell_type": "markdown",
   "metadata": {},
   "source": [
    "为了实现 $FFT$ 需要使用复数操作"
   ]
  },
  {
   "cell_type": "code",
   "execution_count": 1,
   "metadata": {},
   "outputs": [],
   "source": [
    "import numpy as np"
   ]
  },
  {
   "cell_type": "code",
   "execution_count": 2,
   "metadata": {},
   "outputs": [
    {
     "data": {
      "text/plain": [
       "array([1.+2.j, 1.-3.j])"
      ]
     },
     "execution_count": 2,
     "metadata": {},
     "output_type": "execute_result"
    }
   ],
   "source": [
    "# 创建复数元素数组\n",
    "\n",
    "a = np.array([1 + 2j, 1 - 3j])\n",
    "a"
   ]
  },
  {
   "cell_type": "code",
   "execution_count": 3,
   "metadata": {},
   "outputs": [
    {
     "name": "stdout",
     "output_type": "stream",
     "text": [
      "<class 'numpy.complex128'>\n"
     ]
    }
   ],
   "source": [
    "print(type(a[0]))"
   ]
  },
  {
   "cell_type": "code",
   "execution_count": 4,
   "metadata": {},
   "outputs": [
    {
     "data": {
      "text/plain": [
       "array([0.+0.j, 0.+0.j, 0.+0.j])"
      ]
     },
     "execution_count": 4,
     "metadata": {},
     "output_type": "execute_result"
    }
   ],
   "source": [
    "# 快速创建复数元素的数组\n",
    "\n",
    "b = np.zeros(3, dtype = np.complex128)\n",
    "b"
   ]
  },
  {
   "cell_type": "code",
   "execution_count": 5,
   "metadata": {},
   "outputs": [
    {
     "data": {
      "text/plain": [
       "array([1.27201965+0.78615138j, 1.44261527-1.03977826j])"
      ]
     },
     "execution_count": 5,
     "metadata": {},
     "output_type": "execute_result"
    }
   ],
   "source": [
    "# 作用在复数数组上的运算\n",
    "\n",
    "c = np.sqrt(a)\n",
    "c"
   ]
  },
  {
   "cell_type": "code",
   "execution_count": 6,
   "metadata": {},
   "outputs": [
    {
     "data": {
      "text/plain": [
       "1j"
      ]
     },
     "execution_count": 6,
     "metadata": {},
     "output_type": "execute_result"
    }
   ],
   "source": [
    "np.sqrt(-1+0j)"
   ]
  },
  {
   "cell_type": "code",
   "execution_count": 7,
   "metadata": {},
   "outputs": [
    {
     "data": {
      "text/plain": [
       "(-1+1.2246467991473532e-16j)"
      ]
     },
     "execution_count": 7,
     "metadata": {},
     "output_type": "execute_result"
    }
   ],
   "source": [
    "w = np.exp(complex(0, np.pi))\n",
    "w"
   ]
  },
  {
   "cell_type": "code",
   "execution_count": 8,
   "metadata": {},
   "outputs": [
    {
     "name": "stdout",
     "output_type": "stream",
     "text": [
      "-1.0 1.2246467991473532e-16\n"
     ]
    }
   ],
   "source": [
    "print(w.real, w.imag)"
   ]
  },
  {
   "cell_type": "markdown",
   "metadata": {},
   "source": [
    "## $FFT$ 的递归实现"
   ]
  },
  {
   "cell_type": "code",
   "execution_count": 9,
   "metadata": {},
   "outputs": [],
   "source": [
    "def fft_rcs(a, m):\n",
    "    if m == 1:\n",
    "        return a  \n",
    "    a0 = a[::2]\n",
    "    a1 = a[1::2]\n",
    "    a0ft = fft_rcs(a0, m >> 1)\n",
    "    a1ft = fft_rcs(a1, m >> 1)\n",
    "    wn = np.complex(np.cos(2 * np.pi / m), -np.sin(2 * np.pi / m))\n",
    "    res = np.zeros(m, dtype = np.complex128)                # 这里注意必须重新开辟内存, 不能直接对原数组 a 进行修改, python list 为可变对象\n",
    "    for k in range(m >> 1):\n",
    "        res[k] = a0ft[k] + (wn ** k) * a1ft[k]\n",
    "        res[k + (m >> 1)] = a0ft[k] - (wn ** k) * a1ft[k]   # 这里位运算操作注意 位运算优先级要比普通运算低, 如果 m // 2可省略括号\n",
    "    return res"
   ]
  },
  {
   "cell_type": "code",
   "execution_count": 10,
   "metadata": {},
   "outputs": [
    {
     "data": {
      "text/plain": [
       "array([0.84147098+0.j        , 0.8615517 +0.59157261j,\n",
       "       1.1278941 +3.49511317j, 0.61694382-1.13487072j,\n",
       "       0.67751766+0.j        , 0.61694382+1.13487072j,\n",
       "       1.1278941 -3.49511317j, 0.8615517 -0.59157261j])"
      ]
     },
     "execution_count": 10,
     "metadata": {},
     "output_type": "execute_result"
    }
   ],
   "source": [
    "m = 8\n",
    "f = lambda x: np.sin(5 * x + 1)\n",
    "a = f(np.linspace(0, 2 * np.pi, m, dtype = np.complex128))\n",
    "c = fft_rcs(a, m)\n",
    "c"
   ]
  },
  {
   "cell_type": "markdown",
   "metadata": {},
   "source": [
    "## $ FFT $ 的高效实现"
   ]
  },
  {
   "cell_type": "markdown",
   "metadata": {},
   "source": [
    "## $ numpy $下$ FFT $的使用"
   ]
  },
  {
   "cell_type": "code",
   "execution_count": 11,
   "metadata": {},
   "outputs": [],
   "source": [
    "from numpy import fft"
   ]
  },
  {
   "cell_type": "code",
   "execution_count": 12,
   "metadata": {},
   "outputs": [
    {
     "data": {
      "text/plain": [
       "array([0.84147098+0.j        , 0.8615517 +0.59157261j,\n",
       "       1.1278941 +3.49511317j, 0.61694382-1.13487072j,\n",
       "       0.67751766+0.j        , 0.61694382+1.13487072j,\n",
       "       1.1278941 -3.49511317j, 0.8615517 -0.59157261j])"
      ]
     },
     "execution_count": 12,
     "metadata": {},
     "output_type": "execute_result"
    }
   ],
   "source": [
    "fft.fft(a, m)"
   ]
  },
  {
   "cell_type": "markdown",
   "metadata": {},
   "source": [
    "和上面的结果是一致的."
   ]
  }
 ],
 "metadata": {
  "kernelspec": {
   "display_name": "Python 3",
   "language": "python",
   "name": "python3"
  },
  "language_info": {
   "codemirror_mode": {
    "name": "ipython",
    "version": 3
   },
   "file_extension": ".py",
   "mimetype": "text/x-python",
   "name": "python",
   "nbconvert_exporter": "python",
   "pygments_lexer": "ipython3",
   "version": "3.7.0"
  },
  "toc": {
   "base_numbering": 1,
   "nav_menu": {},
   "number_sections": true,
   "sideBar": true,
   "skip_h1_title": false,
   "title_cell": "Table of Contents",
   "title_sidebar": "Contents",
   "toc_cell": false,
   "toc_position": {},
   "toc_section_display": true,
   "toc_window_display": false
  }
 },
 "nbformat": 4,
 "nbformat_minor": 4
}
